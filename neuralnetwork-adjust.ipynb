{
 "cells": [
  {
   "cell_type": "code",
   "execution_count": 83,
   "metadata": {},
   "outputs": [],
   "source": [
    "import numpy as np\n",
    "from scipy import special\n",
    "from matplotlib import pyplot as plt\n",
    "\n",
    "class neuralNetwork:\n",
    "    def __init__(self, in_nodes, hidden_nodes, out_nodes, learn_rate):\n",
    "        self.__inNodes = in_nodes\n",
    "        self.__hiddenNodes = hidden_nodes\n",
    "        self.__outNodes = out_nodes\n",
    "        self.__learnRate = learn_rate\n",
    "\n",
    "        # the weight between input and hidden\n",
    "        self.__weight1 = np.random.normal(0, pow(hidden_nodes, -0.5), (hidden_nodes, in_nodes))\n",
    "        # the weight between hidden and out\n",
    "        self.__weight2 = np.random.normal(0, pow(out_nodes, -0.5), (out_nodes, hidden_nodes))\n",
    "\n",
    "        self.__activation_func = special.expit\n",
    "\n",
    "    def train(self, inputs, target):\n",
    "        \"\"\"\n",
    "        train neural network\n",
    "\n",
    "        :param inputs:  like two-dimensions array,and value is in range(0,1]\n",
    "        :param target:  like two-dimensions array, and the second dimensions must be equal to\n",
    "                the numbers of out nodes, and in range(0,1)\n",
    "        :param activation_func: acitvate function\n",
    "        :return: None\n",
    "        \"\"\"\n",
    "\n",
    "        inputs  = np.array(inputs, ndmin=2).T\n",
    "        target = np.array(target, ndmin=2).T\n",
    "        if len(target) != self.outNodes:\n",
    "            raise Exception(\"the second dimensions must be equal to the numbers of out nodes\")\n",
    "\n",
    "        # calc outputs\n",
    "        hidden_out = np.dot(self.weight1, inputs)\n",
    "        hidden_out = self.activation_func(hidden_out)\n",
    "        \n",
    "        final_out = np.dot(self.weight2, hidden_out)\n",
    "        final_out = self.activation_func(final_out)\n",
    "\n",
    "        final_err = target - final_out\n",
    "\n",
    "        # calcout hidden layer error(reverse broadcast)\n",
    "        hidden_err = np.dot(self.weight2.T, final_err)\n",
    "\n",
    "        # adjust weight(gradient descent )\n",
    "        self.__weight2 += self.learnRate * \\\n",
    "                    np.dot((final_err * final_out * (1.0 - final_out)), hidden_out.T)\n",
    "        self.__weight1 += self.learnRate * \\\n",
    "                    np.dot((hidden_err * hidden_out * (1.0 - hidden_out)), inputs.T)\n",
    "\n",
    "    def query(self, inputs):\n",
    "        \"\"\"\n",
    "        calc result after train neuralnetwork\n",
    "\n",
    "        :param inputs:  like one-dimensions array,and value is in range(0,1)\n",
    "        :return:        like one-dimensions array,and value is in range(0,1)\n",
    "        \"\"\"\n",
    "        inputs = np.array(inputs, ndmin=2).T\n",
    "        hidden_out = np.dot(self.weight1, inputs)\n",
    "        hidden_out = self.activation_func(hidden_out)\n",
    "\n",
    "        final_out = np.dot(self.weight2, hidden_out)\n",
    "        final_out = self.activation_func(final_out)\n",
    "        return final_out\n",
    "\n",
    "    @property\n",
    "    def inNodes(self):\n",
    "        return self.__inNodes\n",
    "\n",
    "    @property\n",
    "    def hiddenNodes(self):\n",
    "        return self.__hiddenNodes\n",
    "\n",
    "    @property\n",
    "    def outNodes(self):\n",
    "        return self.__outNodes\n",
    "\n",
    "    @property\n",
    "    def learnRate(self):\n",
    "        return self.__learnRate\n",
    "\n",
    "    @property\n",
    "    def weight1(self):\n",
    "        return self.__weight1\n",
    "\n",
    "    @property\n",
    "    def weight2(self):\n",
    "        return self.__weight2\n",
    "\n",
    "    @property\n",
    "    def activation_func(self):\n",
    "        return self.__activation_func"
   ]
  },
  {
   "cell_type": "markdown",
   "metadata": {},
   "source": [
    "#### 这里采用MINST的数据来训练模型\n",
    "数据集可以从下面地址中下载\n",
    "1. [https://pjreddie.com/media/files/mnist_train.csv](https://pjreddie.com/media/files/mnist_train.csv) \n",
    "2. [https://pjreddie.com/media/files/mnist_test.csv](https://pjreddie.com/media/files/mnist_test.csv)   \n",
    "#### 首先读取、格式化csv文件"
   ]
  },
  {
   "cell_type": "code",
   "execution_count": 84,
   "metadata": {},
   "outputs": [],
   "source": [
    "lines = None\n",
    "with open('mnist_train.csv') as f:\n",
    "    lines = f.readlines()"
   ]
  },
  {
   "cell_type": "markdown",
   "metadata": {},
   "source": [
    "#### 绘制手写笔记图像"
   ]
  },
  {
   "cell_type": "code",
   "execution_count": 85,
   "metadata": {},
   "outputs": [
    {
     "data": {
      "text/plain": [
       "<matplotlib.image.AxesImage at 0x24f95989c18>"
      ]
     },
     "execution_count": 85,
     "metadata": {},
     "output_type": "execute_result"
    },
    {
     "data": {
      "image/png": "[encoded data removed]",
      "text/plain": [
       "<Figure size 432x288 with 1 Axes>"
      ]
     },
     "metadata": {
      "needs_background": "light"
     },
     "output_type": "display_data"
    }
   ],
   "source": [
    "line = lines[0].split(',')\n",
    "number = int(line[0])\n",
    "images = np.asfarray(line[1:]).reshape(28,28)\n",
    "plt.imshow(images, cmap='Greys', interpolation='None')"
   ]
  },
  {
   "cell_type": "markdown",
   "metadata": {},
   "source": [
    "#### 旋转10度"
   ]
  },
  {
   "cell_type": "code",
   "execution_count": 86,
   "metadata": {},
   "outputs": [
    {
     "data": {
      "text/plain": [
       "<matplotlib.image.AxesImage at 0x24f959e77b8>"
      ]
     },
     "execution_count": 86,
     "metadata": {},
     "output_type": "execute_result"
    },
    {
     "data": {
      "image/png": "[encoded data removed]",
      "text/plain": [
       "<Figure size 432x288 with 1 Axes>"
      ]
     },
     "metadata": {
      "needs_background": "light"
     },
     "output_type": "display_data"
    }
   ],
   "source": [
    "line = lines[0].split(',')\n",
    "\n",
    "images = np.asfarray(line[1:]).reshape(28,28)\n",
    "images_plus_10 = ndimage.rotate(images, 10, cval=0.01, reshape=False)\n",
    "plt.imshow(images_plus_10, cmap='Greys', interpolation='None')"
   ]
  },
  {
   "cell_type": "markdown",
   "metadata": {},
   "source": [
    "#### 可以看到，这就是MINST的手写图像笔迹，和期望值是一样的\n",
    "#### 接下来，开始训练模型\n",
    "#### 和上次训练不同的是，这次我们增加训练世代数，并将图像左右各旋转10度\n",
    "#### 训练我们输入节点为（28*28），隐藏节点设置为100（可以自由更改），学习率设置为0.1(可以自由更改）"
   ]
  },
  {
   "cell_type": "code",
   "execution_count": 87,
   "metadata": {
    "scrolled": true
   },
   "outputs": [],
   "source": [
    "from scipy import ndimage\n",
    "epoch = 5\n",
    "neural = neuralNetwork(28*28, 100, 10, 0.01)\n",
    "for e in range(epoch):\n",
    "    for line in lines:\n",
    "        line = line.split(',')\n",
    "        number = int(line[0])\n",
    "        target = np.zeros(10) + 0.01\n",
    "        target[number] = 0.9\n",
    "    \n",
    "        inputs = np.asfarray(line[1:])\n",
    "        inputs = inputs / 255.0 * 0.99 + 0.01\n",
    "        neural.train(inputs, target)\n",
    "        # rotate +10degree\n",
    "    \n",
    "        inputs_plus_10 = ndimage.rotate(inputs.reshape((28,28)), 10, cval=0.01, reshape=False)\n",
    "        inputs_plus_10 = inputs_plus_10.reshape(28*28)\n",
    "        neural.train(inputs_plus_10, target)\n",
    "    \n",
    "        # rotate -10degree\n",
    "        inputs_mins_10 = ndimage.rotate(inputs.reshape((28,28)), -10, cval=0.01, reshape=False)\n",
    "        inputs_mins_10 = inputs_mins_10.reshape(28*28)\n",
    "        neural.train(inputs_mins_10, target)"
   ]
  },
  {
   "cell_type": "markdown",
   "metadata": {},
   "source": [
    "#### 同样，我们使用MINST的测试数据集测试我们训练的模型\n",
    "#### 并统计测试结果"
   ]
  },
  {
   "cell_type": "code",
   "execution_count": 88,
   "metadata": {},
   "outputs": [],
   "source": [
    "train_data = None\n",
    "\n",
    "with open('mnist_test.csv') as f:\n",
    "    train_data = f.readlines()\n"
   ]
  },
  {
   "cell_type": "code",
   "execution_count": 89,
   "metadata": {},
   "outputs": [],
   "source": [
    "scored = []\n",
    "for line in train_data:\n",
    "    line = line.split(',')\n",
    "    number = int(line[0])\n",
    "\n",
    "    inputs = np.asfarray(line[1:])\n",
    "    out_res = neural.query(inputs / 255.0 * 0.99 + 0.01)\n",
    "    label = np.argmax(out_res)\n",
    "    if label == number:\n",
    "        scored.append(1)\n",
    "    else:\n",
    "        scored.append(0)"
   ]
  },
  {
   "cell_type": "code",
   "execution_count": 90,
   "metadata": {},
   "outputs": [
    {
     "name": "stdout",
     "output_type": "stream",
     "text": [
      "正确率： 96.03%\n"
     ]
    }
   ],
   "source": [
    "scored = np.array(scored)\n",
    "print(str.format('正确率： {0:.2%}', np.sum(scored) / len(scored)))"
   ]
  },
  {
   "cell_type": "markdown",
   "metadata": {},
   "source": [
    "#### 还可以调整隐藏层节点以及学习率来优化我们的神经网络模型"
   ]
  },
  {
   "cell_type": "markdown",
   "metadata": {},
   "source": [
    "### Reference\n",
    "1. 《Python神经网络编程》 塔里克·拉希德"
   ]
  }
 ],
 "metadata": {
  "kernelspec": {
   "display_name": "Python 3",
   "language": "python",
   "name": "python3"
  },
  "language_info": {
   "codemirror_mode": {
    "name": "ipython",
    "version": 3
   },
   "file_extension": ".py",
   "mimetype": "text/x-python",
   "name": "python",
   "nbconvert_exporter": "python",
   "pygments_lexer": "ipython3",
   "version": "3.7.0"
  }
 },
 "nbformat": 4,
 "nbformat_minor": 2
}
