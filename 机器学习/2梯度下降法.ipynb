{
 "cells": [
  {
   "cell_type": "markdown",
   "metadata": {},
   "source": [
    "### 梯度下降法"
   ]
  },
  {
   "cell_type": "code",
   "execution_count": 10,
   "metadata": {},
   "outputs": [],
   "source": [
    "import numpy as np\n",
    "\n",
    "class GradientDescent:\n",
    "    \n",
    "    def __init__(self, learn_rate, iter_nums):\n",
    "        self.learn_rate = learn_rate\n",
    "        self.iter_nums = iter_nums\n",
    "        self.wight = None\n",
    "        self.costs = []\n",
    "    \n",
    "    def fit(self, X, Y):\n",
    "        \"\"\"\n",
    "            parameters:\n",
    "            X: np.ndarray, size:[simples,features]\n",
    "            Y：np.ndarray, size:features\n",
    "            \n",
    "            return: self\n",
    "        \"\"\"\n",
    "        simples,features = X.shape\n",
    "\n",
    "        self.wight = np.random.random((features + 1, 1))\n",
    "        # 确保为二维列向量\n",
    "        Y = Y.reshape((simples, 1))\n",
    "        \n",
    "        for _ in range(self.iter_nums): \n",
    "            predict = self.net_input(X)\n",
    "            _error = Y - predict\n",
    "            \n",
    "            self.wight[1:] += self.learn_rate * np.dot(X.T, _error)\n",
    "            self.wight[0]  += self.learn_rate * np.sum(_error)\n",
    "            # cost\n",
    "            self.costs.append(np.sum(_error ** 2) / 2)\n",
    "        \n",
    "        return self\n",
    "    \n",
    "    def net_input(self, x):\n",
    "        \"\"\"\n",
    "            parameters:\n",
    "            x: np.ndarray, size:[simples,features]\n",
    "\n",
    "            return: np.ndarray, size:[simples,1]\n",
    "        \"\"\"\n",
    "        \n",
    "        return self.wight[0] + np.dot(x, self.wight[1:,])\n",
    "    \n",
    "    def predict(self, x):\n",
    "        \"\"\"\n",
    "            parameters:\n",
    "            x: n.ndarray, size:[simples,features]\n",
    "            \n",
    "            return: np.ndarray, size:[simples,1]\n",
    "        \"\"\"\n",
    "        return np.where(self.net_input(x) > 0, 1, -1)"
   ]
  },
  {
   "cell_type": "markdown",
   "metadata": {},
   "source": [
    "### 数据读取、处理"
   ]
  },
  {
   "cell_type": "code",
   "execution_count": 11,
   "metadata": {},
   "outputs": [],
   "source": [
    "import pandas as pd\n",
    "\n",
    "df = pd.read_csv('https://archive.ics.uci.edu/ml/machine-learning-databases/iris/iris.data', header=None)\n",
    "\n",
    "Y = df.iloc[0:100,4].values\n",
    "Y = np.where(Y == 'Iris-setosa', -1, 1)\n",
    "X = df.iloc[0:100,[0,2]].values"
   ]
  },
  {
   "cell_type": "markdown",
   "metadata": {},
   "source": [
    "### 训练模型"
   ]
  },
  {
   "cell_type": "code",
   "execution_count": 14,
   "metadata": {},
   "outputs": [],
   "source": [
    "costs1 = GradientDescent(0.01, 10).fit(X, Y).costs\n",
    "costs2 = GradientDescent(0.0001, 10).fit(X, Y).costs"
   ]
  },
  {
   "cell_type": "markdown",
   "metadata": {},
   "source": [
    "### 绘制损耗函数"
   ]
  },
  {
   "cell_type": "code",
   "execution_count": 23,
   "metadata": {},
   "outputs": [
    {
     "data": {
      "text/plain": [
       "Text(0.5,1,'learn rate = 0.001')"
      ]
     },
     "execution_count": 23,
     "metadata": {},
     "output_type": "execute_result"
    },
    {
     "data": {
      "image/png": "[encoded data removed]",
      "text/plain": [
       "<Figure size 432x288 with 2 Axes>"
      ]
     },
     "metadata": {
      "needs_background": "light"
     },
     "output_type": "display_data"
    }
   ],
   "source": [
    "from matplotlib import pyplot as plt\n",
    "fig, axes = plt.subplots(1, 2)\n",
    "axes[0].plot(np.log(costs1))\n",
    "axes[0].set_title('learn rate = 0.1')\n",
    "axes[1].plot(costs2)\n",
    "axes[1].set_title('learn rate = 0.001')"
   ]
  },
  {
   "cell_type": "markdown",
   "metadata": {},
   "source": [
    "可以从上图看到，当学习速率为0.1时，模型跳过了最优解，当降低学习速率时，误差平方和不断减小，说明不断逼近最优解。  \n",
    "接下来，我们对数据进行一个“标准化”：\n"
   ]
  },
  {
   "cell_type": "markdown",
   "metadata": {},
   "source": []
  }
 ],
 "metadata": {
  "kernelspec": {
   "display_name": "Python 3",
   "language": "python",
   "name": "python3"
  },
  "language_info": {
   "codemirror_mode": {
    "name": "ipython",
    "version": 3
   },
   "file_extension": ".py",
   "mimetype": "text/x-python",
   "name": "python",
   "nbconvert_exporter": "python",
   "pygments_lexer": "ipython3",
   "version": "3.7.0"
  }
 },
 "nbformat": 4,
 "nbformat_minor": 2
}
