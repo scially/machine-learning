{
 "cells": [
  {
   "cell_type": "markdown",
   "metadata": {},
   "source": [
    "### 使用Python实现感知器学习算法\n",
    "1. 初始化权重\n",
    "2. 迭代所有训练样本$x^{(i)}$\n",
    "    1. 计算误差：$e= y - output$\n",
    "    2. 更新权重：$\\Delta_{w}=\\eta ex$"
   ]
  },
  {
   "cell_type": "code",
   "execution_count": 28,
   "metadata": {},
   "outputs": [],
   "source": [
    "import numpy as np\n",
    "\n",
    "class Perceptron:\n",
    "    \n",
    "    def __init__(self, learn_rate, iter_nums):\n",
    "        self.learn_rate = learn_rate\n",
    "        self.iter_nums = iter_nums\n",
    "        self.wight = None\n",
    "        self.errors = []\n",
    "    \n",
    "    def fit(self, X, Y):\n",
    "        \"\"\"\n",
    "            parameters:\n",
    "            X: np.ndarray, size:[simples,features]\n",
    "            Y：np.ndarray, size:features\n",
    "        \"\"\"\n",
    "        simples,features = X.shape\n",
    "        \n",
    "        \n",
    "        self.wight = np.random.random((features + 1, 1))\n",
    "        # self.wight = np.zeros((features + 1, 1))\n",
    "        # 确保为二维列向量\n",
    "        Y = Y.reshape((simples, 1))\n",
    "        \n",
    "        for _ in range(self.iter_nums):\n",
    "            _errors = 0\n",
    "            for x,y in zip(X, Y):\n",
    "                x = x.reshape((features, 1))\n",
    "                output = self.predict(x)\n",
    "                # 加入每次训练错误样本数量，判断是否收敛\n",
    "                update = self.learn_rate * (y - output)\n",
    "                self.wight[0] += update\n",
    "                self.wight[1:] += update * x\n",
    "                _errors += int(update != 0.0)\n",
    "            self.errors.append(_errors)\n",
    "    def net_input(self, x):\n",
    "        \"\"\"\n",
    "            parameters:\n",
    "            x: np.ndarray, size:features\n",
    "            \n",
    "            return: float\n",
    "        \"\"\"\n",
    "        x = x.reshape((len(x),1))\n",
    "        \n",
    "        # 这里使用切片索引\n",
    "        # 注意Numpy索引方式：用整数方式有可能得到降维的数组，而用切片方式得到的数组永远是原数组的子数组\n",
    "        return self.wight[0] + np.dot(x.T, self.wight[1:,])\n",
    "    \n",
    "    def predict(self, x):\n",
    "        \"\"\"\n",
    "            parameters:\n",
    "            x: n.ndarray, size:features\n",
    "        \"\"\"\n",
    "        return 1 if self.net_input(x) > 0.0 else -1"
   ]
  },
  {
   "cell_type": "markdown",
   "metadata": {},
   "source": [
    "### 数据读取、处理"
   ]
  },
  {
   "cell_type": "code",
   "execution_count": 29,
   "metadata": {},
   "outputs": [],
   "source": [
    "import pandas as pd\n",
    "\n",
    "df = pd.read_csv('https://archive.ics.uci.edu/ml/machine-learning-databases/iris/iris.data', header=None)"
   ]
  },
  {
   "cell_type": "markdown",
   "metadata": {},
   "source": [
    "#### 选取两个特征值、以及前100行数据进行训练"
   ]
  },
  {
   "cell_type": "code",
   "execution_count": 30,
   "metadata": {},
   "outputs": [
    {
     "data": {
      "text/plain": [
       "<matplotlib.legend.Legend at 0x54523c8>"
      ]
     },
     "execution_count": 30,
     "metadata": {},
     "output_type": "execute_result"
    },
    {
     "data": {
      "image/png": "[encoded data removed]",
      "text/plain": [
       "<Figure size 432x288 with 1 Axes>"
      ]
     },
     "metadata": {
      "needs_background": "light"
     },
     "output_type": "display_data"
    }
   ],
   "source": [
    "from matplotlib import pyplot as plt\n",
    "%matplotlib inline\n",
    "\n",
    "Y = df.iloc[0:100,4].values\n",
    "Y = np.where(Y == 'Iris-setosa', -1, 1)\n",
    "X = df.iloc[0:100,[0,2]].values\n",
    "\n",
    "# 绘制出数据集\n",
    "ax = plt.axes()\n",
    "\n",
    "ax.scatter(X[Y==1, 0],X[Y==1, 1], marker='o', label='1')\n",
    "ax.scatter(X[Y==-1, 0],X[Y==-1, 1], marker='x', label='-1')\n",
    "ax.legend()"
   ]
  },
  {
   "cell_type": "code",
   "execution_count": 31,
   "metadata": {
    "scrolled": false
   },
   "outputs": [
    {
     "data": {
      "text/plain": [
       "Text(0,0.5,'error samples')"
      ]
     },
     "execution_count": 31,
     "metadata": {},
     "output_type": "execute_result"
    },
    {
     "data": {
      "image/png": "[encoded data removed]",
      "text/plain": [
       "<Figure size 432x288 with 1 Axes>"
      ]
     },
     "metadata": {
      "needs_background": "light"
     },
     "output_type": "display_data"
    }
   ],
   "source": [
    "# 训练模型\n",
    "per = Perceptron(0.1, 10)\n",
    "per.fit(X, Y)\n",
    "\n",
    "# 结果\n",
    "ax = plt.axes()\n",
    "ax.alot(range(1, len(per.errors) + 1), per.errors)\n",
    "ax.set_xlabel('number of iter')\n",
    "ax.set_ylabel('error samples')"
   ]
  },
  {
   "cell_type": "markdown",
   "metadata": {},
   "source": [
    "#### 可以看到在第4次模型就已经收敛，接下来我们使用我们训练好的模型对前100行数据重新进行预测\n",
    "\n",
    "1. np.meshgrid图解  \n",
    "注意最后生成的矩阵shape都是相同的！\n",
    "![](https://pic4.zhimg.com/80/v2-a7f1c996c371d1167a0fb7b5273c6d01_hd.jpg)"
   ]
  },
  {
   "cell_type": "code",
   "execution_count": 32,
   "metadata": {},
   "outputs": [
    {
     "data": {
      "text/plain": [
       "<matplotlib.contour.QuadContourSet at 0x54ea5f8>"
      ]
     },
     "execution_count": 32,
     "metadata": {},
     "output_type": "execute_result"
    },
    {
     "data": {
      "image/png": "[encoded data removed]",
      "text/plain": [
       "<Figure size 432x288 with 1 Axes>"
      ]
     },
     "metadata": {
      "needs_background": "light"
     },
     "output_type": "display_data"
    }
   ],
   "source": [
    "# 构建源数据\n",
    "interval = 0.02\n",
    "x0_min, x0_max = X[:, 0].min(),X[:, 0].max()\n",
    "x1_min, x1_max = X[:, 1].min(),X[:, 1].max()\n",
    "\n",
    "xy, yx = np.meshgrid(np.arange(x0_min, x0_max, interval),\n",
    "                    np.arange(x1_min, x1_max,interval))\n",
    "\n",
    "z = np.array([xy.ravel(), yx.ravel()]).T\n",
    "\n",
    "# 预测\n",
    "z_predict = []\n",
    "for _z in z:\n",
    "    z_predict.append(per.predict(_z))\n",
    "    \n",
    "z_predict = np.array(z_predict).reshape(xy.shape)\n",
    "\n",
    "# 绘制结果\n",
    "ax = plt.axes()\n",
    "ax.contourf(xy, yx, z_predict)"
   ]
  },
  {
   "cell_type": "code",
   "execution_count": null,
   "metadata": {},
   "outputs": [],
   "source": []
  }
 ],
 "metadata": {
  "kernelspec": {
   "display_name": "Python 3",
   "language": "python",
   "name": "python3"
  },
  "language_info": {
   "codemirror_mode": {
    "name": "ipython",
    "version": 3
   },
   "file_extension": ".py",
   "mimetype": "text/x-python",
   "name": "python",
   "nbconvert_exporter": "python",
   "pygments_lexer": "ipython3",
   "version": "3.7.0"
  }
 },
 "nbformat": 4,
 "nbformat_minor": 2
}
