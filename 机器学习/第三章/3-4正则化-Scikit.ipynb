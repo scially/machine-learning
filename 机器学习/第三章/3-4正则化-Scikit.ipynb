{
 "cells": [
  {
   "cell_type": "markdown",
   "metadata": {},
   "source": [
    "### 正则化\n",
    "\n",
    "1. 上一部分介绍了逻辑斯蒂回归，但是没有介绍到用的例子仍然是线性可分的，这节我们换用另外一个例子，来说明逻辑斯蒂回归可用于线性不可分的情况。\n",
    "2. 在复杂分类情况下， 有三种情况：分别是欠拟合（高偏差）、拟合良好、过拟合（高方差），其中正则化主要是用来解决过拟合问题。\n",
    "3. 正则化：  \n",
    "正则化主要是用来解决过拟合现象。过拟合现象之所以出现，是因为特征选取过多。所以解决办法首先就是剔除部分特征，另外一种办法就是正则化。其原理是通过对高阶项进行惩罚，减少高阶项的权重，但是在实际过程中，我们往往不知道哪些特征对应的高阶项，因此就对所有权重施加惩罚。具体公式为：\n",
    "$$\n",
    "\\begin{align}\n",
    "J(w) &= \\sum_{i=1}^{n}y^{(i)}log(\\phi(z(x^{(i)})))+(1-y^{(i)})log(1-\\phi(z(x^{(i)}))) + \\frac{\\lambda}{2}\\|w\\|^2 \\\\\n",
    "&= C(\\sum_{i=1}^{n}y^{(i)}log(\\phi(z(x^{(i)})))+(1-y^{(i)})log(1-\\phi(z(x^{(i)})))) + \\frac{1}{2}\\|w\\|^2 \\\\\n",
    "\\end{align}\n",
    "$$\n",
    "其中$C=\\frac{1}{\\lambda}$，也是scikit-learn中的参数，代表了正则化的强度，其中$C$越大，正则化强度越小。   \n",
    "根据上一节我们推导的逻辑斯蒂回归的代价函数，可得\n",
    "$$\n",
    "J(w)= C(\\sum_{i=1}^{n}y^{(i)}log(\\phi(z(x^{(i)})))+(1-y^{(i)})log(1-\\phi(z(x^{(i)})))) + \\|w\\|\n",
    "$$\n",
    "权重更新公式为：\n",
    "$$\n",
    "w_j := w_j + C\\eta \\sum_{i}(y^{(i)}-\\phi (z^{(i)})x^{(i)}_j - w_j(j\\ne0) \\\\\n",
    "w_0 := w_0 + C\\eta \\sum_{i}(y^{(i)}-\\phi (z^{(i)})(j=0)\n",
    "$$\n",
    "4. 本次仍然以吴恩达的机器学习课程中的数据为基础进行训练。"
   ]
  },
  {
   "cell_type": "markdown",
   "metadata": {},
   "source": [
    "#### 数据读取"
   ]
  },
  {
   "cell_type": "code",
   "execution_count": 1,
   "metadata": {},
   "outputs": [
    {
     "data": {
      "text/plain": [
       "<matplotlib.legend.Legend at 0x7eef748>"
      ]
     },
     "execution_count": 1,
     "metadata": {},
     "output_type": "execute_result"
    },
    {
     "data": {
      "image/png": "[encoded data removed]",
      "text/plain": [
       "<Figure size 432x288 with 1 Axes>"
      ]
     },
     "metadata": {
      "needs_background": "light"
     },
     "output_type": "display_data"
    }
   ],
   "source": [
    "import pandas as pd\n",
    "import numpy as np \n",
    "from matplotlib import pyplot as plt\n",
    "\n",
    "df = pd.read_csv('ex2data2.txt', delimiter=\",\", header=0)\n",
    "\n",
    "X = df.iloc[0:100,[0,1]].values\n",
    "Y = df.iloc[0:100,2].values\n",
    "\n",
    "# 对数据进行标准化\n",
    "X[:, 0] = (X[:, 0] - X[:, 0].mean()) / X[:,0].std()\n",
    "X[:, 1] = (X[:, 1] - X[:, 1].mean()) / X[:,1].std()\n",
    "# 绘图\n",
    "\n",
    "%matplotlib inline\n",
    "ax = plt.axes()\n",
    "\n",
    "ax.scatter(X[Y==0,0],X[Y==0,1],label='0')\n",
    "ax.scatter(X[Y==1,0],X[Y==1,1],label='1')\n",
    "ax.legend()"
   ]
  },
  {
   "cell_type": "markdown",
   "metadata": {},
   "source": [
    "1. 从上图中可以看出这是非线性化的数据，那么我们就需要构造一个高阶多项式，然后交由逻辑斯蒂回归拟合。\n",
    "2. 下面我们**先不进行多项式构造**，先看下分类效果"
   ]
  },
  {
   "cell_type": "code",
   "execution_count": 2,
   "metadata": {},
   "outputs": [
    {
     "name": "stderr",
     "output_type": "stream",
     "text": [
      "d:\\Anaconda3\\lib\\site-packages\\sklearn\\linear_model\\logistic.py:433: FutureWarning: Default solver will be changed to 'lbfgs' in 0.22. Specify a solver to silence this warning.\n",
      "  FutureWarning)\n"
     ]
    },
    {
     "data": {
      "image/png": "[encoded data removed]",
      "text/plain": [
       "<Figure size 432x288 with 1 Axes>"
      ]
     },
     "metadata": {
      "needs_background": "light"
     },
     "output_type": "display_data"
    }
   ],
   "source": [
    "from sklearn.linear_model import LogisticRegression\n",
    "# 迭代次数\n",
    "iter_nums = 100\n",
    "# 正则化强度lambda\n",
    "lama = 0.1\n",
    "lr = LogisticRegression(C=1/lama, max_iter=iter_nums, random_state=0)\n",
    "lr.fit(X, Y)\n",
    "\n",
    "# 生成预测数据\n",
    "interval = 0.05\n",
    "x0_min, x0_max = X[:, 0].min(),X[:, 0].max()\n",
    "x1_min, x1_max = X[:, 1].min(),X[:, 1].max()\n",
    "xy, yx = np.meshgrid(np.arange(x0_min, x0_max, interval),\n",
    "                    np.arange(x1_min, x1_max,interval))\n",
    "z = np.array([xy.ravel(), yx.ravel()]).T\n",
    "# 预测\n",
    "z_predict = []\n",
    "for x in z:\n",
    "    z_predict.append(lr.predict(x.reshape(1,-1)))\n",
    "    \n",
    "z_predict = np.array(z_predict).reshape(xy.shape)\n",
    "\n",
    "# 绘制结果\n",
    "plt.contourf(xy, yx, z_predict)\n",
    "# 绘制原始数据\n",
    "plt.scatter(X[Y == 1,0], X[Y == 1,1], marker='^', label='class1')\n",
    "plt.scatter(X[Y == 0,0], X[Y == 0,1], marker='o', label='class2')\n",
    "plt.legend()\n",
    "plt.show()"
   ]
  },
  {
   "cell_type": "markdown",
   "metadata": {},
   "source": [
    "可以看到线性是无法满足此类情况下的分类的"
   ]
  },
  {
   "cell_type": "markdown",
   "metadata": {},
   "source": [
    "### 吴恩达-将x1,x2扩展为6维，将其改写为python代码\n",
    "```matlab\n",
    "function out = mapFeature(X1, X2)\n",
    "% MAPFEATURE Feature mapping function to polynomial features\n",
    "%\n",
    "%   MAPFEATURE(X1, X2) maps the two input features\n",
    "%   to quadratic features used in the regularization exercise.\n",
    "%\n",
    "%   Returns a new feature array with more features, comprising of \n",
    "%   X1, X2, X1.^2, X2.^2, X1*X2, X1*X2.^2, etc..\n",
    "%\n",
    "%   Inputs X1, X2 must be the same size\n",
    "%\n",
    "\n",
    "degree = 6;\n",
    "out = ones(size(X1(:,1)));\n",
    "for i = 1:degree\n",
    "    for j = 0:i\n",
    "        out(:, end+1) = (X1.^(i-j)).*(X2.^j);\n",
    "    end\n",
    "end\n",
    "end\n",
    "```"
   ]
  },
  {
   "cell_type": "code",
   "execution_count": 3,
   "metadata": {},
   "outputs": [],
   "source": [
    "def extend_poly(x1, x2, degree=6):\n",
    "    \"\"\"\n",
    "    将x1,x2扩展到6阶多项式\n",
    "    parameters:\n",
    "        x1,x2:np.ndarray,size:[rows,2],\n",
    "              x1, x2 must be the same size\n",
    "    return:\n",
    "        np.ndarray, a new feature array with more features, comprising of \n",
    "        X1, X2, X1.^2, X2.^2, X1*X2, X1*X2.^2, etc..\n",
    "    \"\"\"\n",
    "    out = np.c_[x1, x2]\n",
    "    for i in range(2, degree+1):\n",
    "        for j in range(i+1):\n",
    "            # out(:, end+1) = (X1.^(i-j)).*(X2.^j);\n",
    "            out = np.c_[out, (x1**(i-j))*(x2**j)]\n",
    "    return out\n",
    "\n",
    "X = extend_poly(X[:,0], X[:,1])\n",
    "# 生成预测数据\n",
    "interval = 0.05\n",
    "x0_min, x0_max = X[:, 0].min(),X[:, 0].max()\n",
    "x1_min, x1_max = X[:, 1].min(),X[:, 1].max()\n",
    "\n",
    "xy, yx = np.meshgrid(np.arange(x0_min, x0_max, interval),\n",
    "                    np.arange(x1_min, x1_max,interval))\n",
    "\n",
    "z = np.array([xy.ravel(), yx.ravel()]).T\n",
    "\n"
   ]
  },
  {
   "cell_type": "markdown",
   "metadata": {},
   "source": [
    "#### 正则化（$\\lambda=0.1$）"
   ]
  },
  {
   "cell_type": "code",
   "execution_count": 4,
   "metadata": {},
   "outputs": [
    {
     "name": "stderr",
     "output_type": "stream",
     "text": [
      "d:\\Anaconda3\\lib\\site-packages\\sklearn\\linear_model\\logistic.py:433: FutureWarning: Default solver will be changed to 'lbfgs' in 0.22. Specify a solver to silence this warning.\n",
      "  FutureWarning)\n"
     ]
    },
    {
     "data": {
      "image/png": "[encoded data removed]",
      "text/plain": [
       "<Figure size 432x288 with 1 Axes>"
      ]
     },
     "metadata": {
      "needs_background": "light"
     },
     "output_type": "display_data"
    },
    {
     "name": "stdout",
     "output_type": "stream",
     "text": [
      "[[0 0 0 ... 0 0 0]\n",
      " [0 0 0 ... 0 0 0]\n",
      " [0 0 0 ... 0 0 0]\n",
      " ...\n",
      " [0 0 0 ... 0 0 0]\n",
      " [0 0 0 ... 0 0 0]\n",
      " [0 0 0 ... 0 0 0]]\n"
     ]
    }
   ],
   "source": [
    "# 迭代次数\n",
    "iter_nums = 100\n",
    "# 正则化强度lambda\n",
    "lama = 0.1\n",
    "lr = LogisticRegression(C=1/lama, max_iter=iter_nums, random_state=0)\n",
    "lr.fit(X, Y)\n",
    "\n",
    "# 绘制损耗函数\n",
    "# 预测\n",
    "z_predict = []\n",
    "for _z in z:\n",
    "    _z = extend_poly(_z[[0]], _z[[1]])\n",
    "    z_predict.append(lr.predict(_z))\n",
    "    \n",
    "z_predict = np.array(z_predict).reshape(xy.shape)\n",
    "\n",
    "# 绘制结果\n",
    "plt.contourf(xy, yx, z_predict)\n",
    "# 绘制原始数据\n",
    "plt.scatter(X[Y == 1,0], X[Y == 1,1], marker='^', label='class1')\n",
    "plt.scatter(X[Y == 0,0], X[Y == 0,1], marker='o', label='class2')\n",
    "plt.legend()\n",
    "plt.show()"
   ]
  }
 ],
 "metadata": {
  "kernelspec": {
   "display_name": "Python 3",
   "language": "python",
   "name": "python3"
  },
  "language_info": {
   "codemirror_mode": {
    "name": "ipython",
    "version": 3
   },
   "file_extension": ".py",
   "mimetype": "text/x-python",
   "name": "python",
   "nbconvert_exporter": "python",
   "pygments_lexer": "ipython3",
   "version": "3.7.0"
  },
  "widgets": {
   "application/vnd.jupyter.widget-state+json": {
    "state": {},
    "version_major": 2,
    "version_minor": 0
   }
  }
 },
 "nbformat": 4,
 "nbformat_minor": 2
}
