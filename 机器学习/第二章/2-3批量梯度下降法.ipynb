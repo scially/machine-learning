{
 "cells": [
  {
   "cell_type": "markdown",
   "metadata": {},
   "source": [
    "### 迭代梯度下降法\n",
    "1. 1-2中介绍了整体梯度下降法，但是这个对于大量的学习样本，效率是比较低的，因为每次迭代都要将所有样本全部参与计算，并且容易陷入到局部最优解中。因此书中提出了**迭代梯度下降法**(又称为随机梯度下降法)，与1-2中的整体梯度下降法中权重更新不同的是，对于整体梯度下降法有：\n",
    "$$\n",
    "w := w + \\eta \\sum_{i}(y^{(i)}-\\phi (z^{(i)})x^{(i)}_j \n",
    "$$\n",
    "对于迭代梯度下降法，通常每次只是使用一个样本来更新权重：\n",
    "$$\n",
    "w := w + \\eta(y^{(i)}-\\phi (z^{(i)})x^{(i)}_j \n",
    "$$\n",
    "这样，对于在线学习，即可采用流的方式每次更新一次权重，这样也容易跳出局部最优解。\n",
    "\n",
    "2. 细节\n",
    "    1. 书中还提到了shuffle，翻译过来是重新洗牌的意思，也就是在迭代梯度下降法时，每迭代一次，就将数据打乱，这样也容易跳出局部最优解。"
   ]
  },
  {
   "cell_type": "code",
   "execution_count": 1,
   "metadata": {},
   "outputs": [],
   "source": [
    "import numpy as np\n",
    "from numpy import random\n",
    "\n",
    "class GradientDescent:\n",
    "    \n",
    "    def __init__(self, learn_rate, iter_nums):\n",
    "        \"\"\"\n",
    "            构造函数，初始化梯度下降参数\n",
    "            parameters:\n",
    "            learn_rate: float, 学习速率\n",
    "            iter_nums： int,   迭代次数，对于在线学习无效\n",
    "            \n",
    "            return: self\n",
    "        \n",
    "        \"\"\"\n",
    "        self.learn_rate = learn_rate\n",
    "        self.iter_nums = iter_nums\n",
    "        self.wight = None\n",
    "        self.costs = []\n",
    "        self.__is_init_wight = False\n",
    "    \n",
    "    def fit(self, X, Y):\n",
    "        \"\"\"\n",
    "            parameters:\n",
    "            X: np.ndarray, size:[simples,features]\n",
    "            Y：np.ndarray, size:features\n",
    "            \n",
    "            return: self\n",
    "        \"\"\"\n",
    "        simples,features = X.shape\n",
    "        self.__init_wight(features+1)\n",
    "        \n",
    "        # 经过测试，对于numpy的一维向量，numpy会自动进行广播（brodacast）扩展维度，不需要考虑维度\n",
    "        # Y = Y.reshape((simples, 1))\n",
    "        \n",
    "        for _ in range(self.iter_nums):\n",
    "            # shuffle\n",
    "            X, Y = self.__shuffle(X, Y)\n",
    "            cost = 0\n",
    "            for x,y in zip(X,Y):\n",
    "                cost += self.__partial_update_wight(x,y)\n",
    "            # average cost\n",
    "            self.costs.append(cost / len(Y))\n",
    "        \n",
    "        return self\n",
    "    \n",
    "    def __init_wight(self, rows, cols = 1): \n",
    "        self.wight = np.random.random(rows)\n",
    "        # self.wight = np.zeros(rows)\n",
    "    \n",
    "    \n",
    "    def __shuffle(self, X, Y):\n",
    "        index = np.random.permutation(len(Y))\n",
    "        return (X[index], Y[index])\n",
    "    \n",
    "    def partial_fit(self, X, Y):\n",
    "        \"\"\"\n",
    "            小批次训练，可以每次只训练一个样本集，也可以训练多个样本集。\n",
    "            parameters:\n",
    "            X: np.ndarray, size:[simples,features] or a vector that its length is count of features.\n",
    "            Y：np.ndarray, size:features\n",
    "            \n",
    "            return: self\n",
    "        \"\"\"\n",
    "        features = len(X) if X.ndim == 1 else X.shape[1]\n",
    "        if not self.__is_init_wight:\n",
    "            self.__is_init_wight = True\n",
    "            self.__init_wight(features + 1)\n",
    "        \n",
    "        # 经过测试，对于numpy的一维向量，只管计算即可，不需要管维度\n",
    "        # Y = Y.reshape((simples, 1))\n",
    "        \n",
    "        # 多个样本集的情况\n",
    "        if X.ndim > 1:\n",
    "            cost = 0\n",
    "            for x,y in zip(X,Y):\n",
    "                cost += self.__partial_update_wight(x, y)\n",
    "            self.costs.append(cost / len(Y))\n",
    "        else:\n",
    "            cost = self.__partial_update_wight(X, Y)\n",
    "            self.costs.append(cost)\n",
    "            \n",
    "        return self\n",
    "    \n",
    "    \n",
    "    def __partial_update_wight(self, X, Y):\n",
    "        \"\"\"\n",
    "        单个样本集训练\n",
    "        parameters:\n",
    "            X: np.ndarray, 特征值，a vector that its length is count of features.\n",
    "            Y：np.ndarray, 实际值，a vector that its length is count of features.\n",
    "            \n",
    "            return: cost\n",
    "        \"\"\"\n",
    "        predict = self.net_input(X)\n",
    "        _error = Y - predict\n",
    "        self.wight[1:] += self.learn_rate * np.dot(X, _error)\n",
    "        self.wight[0]  += self.learn_rate * _error\n",
    "        # cost\n",
    "        return _error ** 2 * 0.5\n",
    "        \n",
    "        \n",
    "    def net_input(self, x):\n",
    "        \"\"\"\n",
    "            parameters:\n",
    "            x: np.ndarray, size:[simples,features]\n",
    "\n",
    "            return: np.ndarray, size:[simples,1]\n",
    "        \"\"\"\n",
    "        \n",
    "        return self.wight[0] + np.dot(x, self.wight[1:,])\n",
    "    \n",
    "    def predict(self, x):\n",
    "        \"\"\"\n",
    "            parameters:\n",
    "            x: n.ndarray, size:[simples,features]\n",
    "            \n",
    "            return: np.ndarray, size:[simples,1]\n",
    "        \"\"\"\n",
    "        return np.where(self.net_input(x) > 0, 1, -1)"
   ]
  },
  {
   "cell_type": "markdown",
   "metadata": {},
   "source": [
    "### 数据读取、处理\n",
    "对数据进行特征缩放，即数据标准化，对第$j$个特征的一系列值进行标准化处理，公式为：\n",
    "$$\n",
    "x_j^{'}=\\frac{x_j-u_j}{\\sigma_j}\n",
    "$$"
   ]
  },
  {
   "cell_type": "code",
   "execution_count": 2,
   "metadata": {},
   "outputs": [],
   "source": [
    "import pandas as pd\n",
    "\n",
    "df = pd.read_csv('https://archive.ics.uci.edu/ml/machine-learning-databases/iris/iris.data', header=None)\n",
    "\n",
    "Y = df.iloc[0:100,4].values\n",
    "Y = np.where(Y == 'Iris-setosa', -1, 1)\n",
    "X = df.iloc[0:100,[0,2]].values\n",
    "\n",
    "# 对数据进行标准化\n",
    "X[:, 0] = (X[:, 0] - X[:, 0].mean()) / X[:,0].std()\n",
    "X[:, 1] = (X[:, 1] - X[:, 1].mean()) / X[:,1].std()"
   ]
  },
  {
   "cell_type": "markdown",
   "metadata": {},
   "source": [
    "### 批量梯度训练模型"
   ]
  },
  {
   "cell_type": "code",
   "execution_count": 3,
   "metadata": {},
   "outputs": [
    {
     "data": {
      "text/plain": [
       "<__main__.GradientDescent at 0x4d6e4a8>"
      ]
     },
     "execution_count": 3,
     "metadata": {},
     "output_type": "execute_result"
    }
   ],
   "source": [
    "gd = GradientDescent(0.01, 15)\n",
    "gd.fit(X, Y)"
   ]
  },
  {
   "cell_type": "markdown",
   "metadata": {},
   "source": [
    "### 绘制损耗函数"
   ]
  },
  {
   "cell_type": "code",
   "execution_count": 4,
   "metadata": {},
   "outputs": [
    {
     "data": {
      "text/plain": [
       "[<matplotlib.lines.Line2D at 0x90d0c88>]"
      ]
     },
     "execution_count": 4,
     "metadata": {},
     "output_type": "execute_result"
    },
    {
     "data": {
      "image/png": "[encoded data removed]",
      "text/plain": [
       "<Figure size 432x288 with 1 Axes>"
      ]
     },
     "metadata": {
      "needs_background": "light"
     },
     "output_type": "display_data"
    }
   ],
   "source": [
    "from matplotlib import pyplot as plt\n",
    "%matplotlib inline\n",
    "ax = plt.axes()\n",
    "ax.plot(gd.costs)"
   ]
  },
  {
   "cell_type": "markdown",
   "metadata": {},
   "source": [
    "可以从上图看到，当学习速率为0.01时，误差平方和不断减小，说明不断逼近最优解，且相比于整体梯度下降法，效果要更好。  \n",
    "我们绘制出训练结果："
   ]
  },
  {
   "cell_type": "code",
   "execution_count": 5,
   "metadata": {},
   "outputs": [
    {
     "data": {
      "text/plain": [
       "<matplotlib.legend.Legend at 0x917fe80>"
      ]
     },
     "execution_count": 5,
     "metadata": {},
     "output_type": "execute_result"
    },
    {
     "data": {
      "image/png": "[encoded data removed]",
      "text/plain": [
       "<Figure size 432x288 with 1 Axes>"
      ]
     },
     "metadata": {
      "needs_background": "light"
     },
     "output_type": "display_data"
    }
   ],
   "source": [
    "# 构建源数据\n",
    "interval = 0.01\n",
    "x0_min, x0_max = X[:, 0].min(),X[:, 0].max()\n",
    "x1_min, x1_max = X[:, 1].min(),X[:, 1].max()\n",
    "\n",
    "xy, yx = np.meshgrid(np.arange(x0_min, x0_max, interval),\n",
    "                    np.arange(x1_min, x1_max,interval))\n",
    "\n",
    "z = np.array([xy.ravel(), yx.ravel()]).T\n",
    "\n",
    "# 预测\n",
    "z_predict = []\n",
    "for _z in z:\n",
    "    z_predict.append(gd.predict(_z))\n",
    "    \n",
    "z_predict = np.array(z_predict).reshape(xy.shape)\n",
    "# 绘制结果\n",
    "ax = plt.axes()\n",
    "ax.contourf(xy, yx, z_predict)\n",
    "# 绘制原始数据\n",
    "ax.scatter(X[Y == 1,0], X[Y == 1,1], marker='^', label='class1')\n",
    "ax.scatter(X[Y == -1,0], X[Y == -1,1], marker='o', label='class2')\n",
    "ax.legend()"
   ]
  },
  {
   "cell_type": "markdown",
   "metadata": {},
   "source": [
    "### 接下来我们模拟在线机器学习"
   ]
  },
  {
   "cell_type": "code",
   "execution_count": 6,
   "metadata": {},
   "outputs": [
    {
     "data": {
      "text/plain": [
       "<matplotlib.legend.Legend at 0x9428828>"
      ]
     },
     "execution_count": 6,
     "metadata": {},
     "output_type": "execute_result"
    },
    {
     "data": {
      "image/png": "[encoded data removed]",
      "text/plain": [
       "<Figure size 432x288 with 2 Axes>"
      ]
     },
     "metadata": {
      "needs_background": "light"
     },
     "output_type": "display_data"
    }
   ],
   "source": [
    "# 每次训练一个样本集,因此与迭代参数无关\n",
    "gd2 = GradientDescent(0.01, 12)\n",
    "for x,y in zip(X,Y):\n",
    "    gd2.partial_fit(x,y)\n",
    "    \n",
    "# 绘制代价函数\n",
    "%matplotlib inline\n",
    "fig,ax = plt.subplots(1,2)\n",
    "ax[0].plot(gd2.costs)\n",
    "\n",
    "\n",
    "# 绘制训练结果\n",
    "interval = 0.01\n",
    "x0_min, x0_max = X[:, 0].min(),X[:, 0].max()\n",
    "x1_min, x1_max = X[:, 1].min(),X[:, 1].max()\n",
    "\n",
    "xy, yx = np.meshgrid(np.arange(x0_min, x0_max, interval),\n",
    "                    np.arange(x1_min, x1_max,interval))\n",
    "\n",
    "z = np.array([xy.ravel(), yx.ravel()]).T\n",
    "\n",
    "# 预测\n",
    "z_predict = []\n",
    "for _z in z:\n",
    "    z_predict.append(gd2.predict(_z))\n",
    "    \n",
    "z_predict = np.array(z_predict).reshape(xy.shape)\n",
    "# 绘制结果\n",
    "ax[1].contourf(xy, yx, z_predict)\n",
    "# 绘制原始数据\n",
    "ax[1].scatter(X[Y == 1,0], X[Y == 1,1], marker='^', label='class1')\n",
    "ax[1].scatter(X[Y == -1,0], X[Y == -1,1], marker='o', label='class2')\n",
    "ax[1].legend()"
   ]
  },
  {
   "cell_type": "markdown",
   "metadata": {},
   "source": [
    "经过多次运行发现效果极其不稳定，经常会出现欠拟合的情况。经过我的测试，可以将48行代码注释掉，取消49行代码注释，发现与权重的初始值有着很大关系，并且从左图可以看出在训练过程中多次达到局部最优解，可是损耗函数又突然骤增。"
   ]
  }
 ],
 "metadata": {
  "kernelspec": {
   "display_name": "Python 3",
   "language": "python",
   "name": "python3"
  },
  "language_info": {
   "codemirror_mode": {
    "name": "ipython",
    "version": 3
   },
   "file_extension": ".py",
   "mimetype": "text/x-python",
   "name": "python",
   "nbconvert_exporter": "python",
   "pygments_lexer": "ipython3",
   "version": "3.7.0"
  }
 },
 "nbformat": 4,
 "nbformat_minor": 2
}
