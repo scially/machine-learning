{
 "cells": [
  {
   "cell_type": "markdown",
   "metadata": {},
   "source": [
    "### 逻辑斯蒂回归\n",
    "1. 第一部分介绍了线性回归，但是对于线性不可分的情况，线性回归就无法满足需求，此时逻辑斯蒂回归（logisitc regression）就出现了，它是一个分类模型，是利用统计学中的一种模型，且可用于多种条件分类。\n",
    "2. 最后推导出的形式与线性回归的梯度下降法极其相似，因此可以将第一部分的`__partial_update_wight`和`net_input`函数重新实现就可轻松写出逻辑斯蒂回归代码。\n",
    "3. 详细介绍：\n",
    "首先引入一个概念，几率比$P=\\frac{p}{1-p}$，他是指一个事件发生概率与未发生概率的比值，容易的$P>0$ ，其中$p$是正事件（记为$y=1$）发生的概率。 \n",
    "于是我们取其对数有：\n",
    "$$\n",
    "log(P(y=1|x))=log(\\frac{p(y=1|x)}{1-p(y=1|x)}) \n",
    "$$\n",
    "而$log(P(y=1|x)) \\in (-\\infty,+\\infty)$，故我们可有：\n",
    "$$\n",
    "log(\\frac{p(y=1|x)}{1-p(y=1|x)})  = w^Tx\n",
    "$$\n",
    "$$\n",
    "p(y=1|x) = \\frac{1}{1+e^{-w^Tx}}\n",
    "$$\n",
    "我们将上式简写为：\n",
    "$$\n",
    "p(y=1|x) = \\frac{1}{1+e^{-w^Tx}} = \\phi(z(x))\n",
    "$$\n",
    "那现在就相当于是要求在$p(y=1|x)$最大的情况下，权重$w$的值。所以我们可以构建最大似然函数：\n",
    "$$\n",
    "\\begin{align}  \n",
    "L(w) &= P(y|x;w) \\\\\n",
    "&= \\prod_{i=1}^{n}P(y^{(i)}|x^{(i)};w) \\\\\n",
    "&= \\prod_{i=1}^{n}\\phi(z(x^{(i)}))^{y^{(i)}}(1-\\phi(z(x^{(i)})))^{1-y^{(i)}}\n",
    "\\end{align}  \n",
    "$$\n",
    "按照传统的最大似然函数解法，我们首先两边取对数\n",
    "$$\n",
    "\\begin{align}  \n",
    "log(L(w)) &= log(\\prod_{i=1}^{n}\\phi(z(x^{(i)}))^{y^{(i)}}\\phi(z(x^{(i)}))^{1-y^{(i)}}) \\\\\n",
    "&= \\sum_{i=1}^{n}y^{(i)}log(\\phi(z(x^{(i)})))+(1-y^{(i)})log(1-\\phi(z(x^{(i)})))\n",
    "\\end{align}  \n",
    "$$\n",
    "故逻辑斯蒂回归的代价函数为\n",
    "$$\n",
    "J(w)= \\sum_{i=1}^{n}y^{(i)}log(\\phi(z(x^{(i)})))+(1-y^{(i)})log(1-\\phi(z(x^{(i)})))\n",
    "$$\n",
    "按照1-2节的思路，对$w$求偏导有：\n",
    "$$\n",
    "\\begin{align}\n",
    "\\frac{\\partial J(w)}{\\partial w_j} = \\sum_{i=1}^n(\\phi(z^{(i)})-y^{(i)})x_j\n",
    "\\end{align}\n",
    "$$\n",
    "这样，给出样本$x$和权重$w$，我们就可得到该样本属于特定类别的概率。\n",
    "$$\n",
    "w := w + \\eta \\sum_{i}(y^{(i)}-\\phi (z^{(i)})x^{(i)}_j \n",
    "$$\n",
    "可以看到，这和第一部分的规则是一样的，但是要注意$\\phi(x)$函数不同。\n",
    "4. 本次以吴恩达的机器学习课程中的数据为基础进行训练，这份数据是一些学生两门课的成绩以及他们是否顺利考入了大学被录取（0代表否）。"
   ]
  },
  {
   "cell_type": "code",
   "execution_count": 5,
   "metadata": {},
   "outputs": [],
   "source": [
    "import numpy as np\n",
    "from numpy import random\n",
    "from scipy.special import expit\n",
    "\n",
    "class LogisticReg:\n",
    "    \n",
    "    def __init__(self, learn_rate, iter_nums):\n",
    "        \"\"\"\n",
    "            构造函数，初始化梯度下降参数\n",
    "            parameters:\n",
    "            learn_rate: float, 学习速率\n",
    "            iter_nums： int,   迭代次数\n",
    "            \n",
    "            return: LogisticReg object\n",
    "        \n",
    "        \"\"\"\n",
    "        self.learn_rate = learn_rate\n",
    "        self.iter_nums = iter_nums\n",
    "        self.wight = None\n",
    "        self.costs = []\n",
    "    \n",
    "    def fit(self, X, Y):\n",
    "        \"\"\"\n",
    "            parameters:\n",
    "            X: np.ndarray, size:[simples,features]\n",
    "            Y：np.ndarray, size:features\n",
    "            \n",
    "            return: self\n",
    "        \"\"\"\n",
    "        simples,features = X.shape\n",
    "        self.__init_wight(features+1)\n",
    "        \n",
    "        # 经过测试，对于numpy的一维向量，numpy会自动进行广播（brodacast）扩展维度，不需要考虑维度\n",
    "        # Y = Y.reshape((simples, 1))\n",
    "        \n",
    "        for _ in range(self.iter_nums):\n",
    "            cost = 0\n",
    "            for x,y in zip(X,Y):\n",
    "                cost += self.__partial_update_wight(x,y)\n",
    "            # average cost\n",
    "            self.costs.append(cost / len(Y))\n",
    "        \n",
    "        return self\n",
    "    \n",
    "    def __init_wight(self, rows, cols = 1): \n",
    "        self.wight = np.random.random(rows)\n",
    "        # self.wight = np.zeros(rows)\n",
    "    \n",
    "    \n",
    "    \n",
    "    def __partial_update_wight(self, X, Y):\n",
    "        \"\"\"\n",
    "        单个样本权重更新\n",
    "        parameters:\n",
    "            X: np.ndarray, 特征值，a vector that its length is count of features.\n",
    "            Y：np.ndarray, 实际值，a vector that its length is count of features.\n",
    "            \n",
    "            return: cost\n",
    "        \"\"\"\n",
    "        output = self.net_input(X)\n",
    "        _error = Y - output\n",
    "        self.wight[1:] += self.learn_rate * np.dot(X, _error)\n",
    "        self.wight[0]  += self.learn_rate * _error\n",
    "        # cost\n",
    "        return -Y*np.log(output)-(1-Y)*np.log(1-output)\n",
    "        \n",
    "        \n",
    "    def net_input(self, x):\n",
    "        \"\"\"\n",
    "            parameters:\n",
    "            x: np.ndarray, size:[simples,features]\n",
    "\n",
    "            return: np.ndarray, size:[simples,1]\n",
    "        \"\"\"\n",
    "        \n",
    "        return expit(self.wight[0] + np.dot(x, self.wight[1:,]))\n",
    "    \n",
    "    def predict(self, x):\n",
    "        \"\"\"\n",
    "            parameters:\n",
    "            x: n.ndarray, size:[simples,features]\n",
    "            \n",
    "            return: np.ndarray, size:[simples,1]\n",
    "        \"\"\"\n",
    "        return np.where(self.net_input(x) >= 0.5, 1, 0)"
   ]
  },
  {
   "cell_type": "markdown",
   "metadata": {},
   "source": [
    "### 线性化逻辑斯蒂回归\n",
    "#### 数据读取、处理\n",
    "对数据进行特征缩放，即数据标准化，对第$j$个特征的一系列值进行标准化处理，公式为：\n",
    "$$\n",
    "x_j^{'}=\\frac{x_j-u_j}{\\sigma_j}\n",
    "$$"
   ]
  },
  {
   "cell_type": "code",
   "execution_count": 6,
   "metadata": {},
   "outputs": [
    {
     "data": {
      "text/plain": [
       "<matplotlib.legend.Legend at 0x52a7748>"
      ]
     },
     "execution_count": 6,
     "metadata": {},
     "output_type": "execute_result"
    },
    {
     "data": {
      "image/png": "[encoded data removed]",
      "text/plain": [
       "<Figure size 432x288 with 1 Axes>"
      ]
     },
     "metadata": {
      "needs_background": "light"
     },
     "output_type": "display_data"
    }
   ],
   "source": [
    "import pandas as pd\n",
    "df = pd.read_csv('ex2data1.txt', delimiter=\",\", header=0)\n",
    "\n",
    "Y = df.iloc[0:100,2].values\n",
    "X = df.iloc[0:100,[0,1]].values\n",
    "\n",
    "# 对数据进行标准化\n",
    "X[:, 0] = (X[:, 0] - X[:, 0].mean()) / X[:,0].std()\n",
    "X[:, 1] = (X[:, 1] - X[:, 1].mean()) / X[:,1].std()\n",
    "\n",
    "# 绘图\n",
    "from matplotlib import pyplot as plt\n",
    "%matplotlib inline\n",
    "ax = plt.axes()\n",
    "\n",
    "ax.scatter(X[Y==0,0],X[Y==0,1],label='0')\n",
    "ax.scatter(X[Y==1,0],X[Y==1,1],label='1')\n",
    "ax.legend()"
   ]
  },
  {
   "cell_type": "markdown",
   "metadata": {},
   "source": [
    "可以看到这份数据集是线性不可分的"
   ]
  },
  {
   "cell_type": "markdown",
   "metadata": {},
   "source": [
    "### 批量梯度训练模型"
   ]
  },
  {
   "cell_type": "code",
   "execution_count": 11,
   "metadata": {},
   "outputs": [
    {
     "data": {
      "text/plain": [
       "[<matplotlib.lines.Line2D at 0x90d1240>]"
      ]
     },
     "execution_count": 11,
     "metadata": {},
     "output_type": "execute_result"
    },
    {
     "data": {
      "image/png": "[encoded data removed]",
      "text/plain": [
       "<Figure size 432x288 with 1 Axes>"
      ]
     },
     "metadata": {
      "needs_background": "light"
     },
     "output_type": "display_data"
    }
   ],
   "source": [
    "learn_rate = 0.01\n",
    "iter_nums = 200\n",
    "gd = LogisticReg(learn_rate, iter_nums)\n",
    "gd.fit(X, Y)\n",
    "\n",
    "# 绘制损耗函数\n",
    "ax = plt.axes()\n",
    "ax.plot(gd.costs)"
   ]
  },
  {
   "cell_type": "code",
   "execution_count": 12,
   "metadata": {},
   "outputs": [
    {
     "data": {
      "text/plain": [
       "<matplotlib.legend.Legend at 0x8f7c518>"
      ]
     },
     "execution_count": 12,
     "metadata": {},
     "output_type": "execute_result"
    },
    {
     "data": {
      "image/png": "[encoded data removed]",
      "text/plain": [
       "<Figure size 432x288 with 1 Axes>"
      ]
     },
     "metadata": {
      "needs_background": "light"
     },
     "output_type": "display_data"
    }
   ],
   "source": [
    "# 构建源数据\n",
    "interval = 0.01\n",
    "x0_min, x0_max = X[:, 0].min(),X[:, 0].max()\n",
    "x1_min, x1_max = X[:, 1].min(),X[:, 1].max()\n",
    "\n",
    "xy, yx = np.meshgrid(np.arange(x0_min, x0_max, interval),\n",
    "                    np.arange(x1_min, x1_max,interval))\n",
    "\n",
    "z = np.array([xy.ravel(), yx.ravel()]).T\n",
    "\n",
    "# 预测\n",
    "z_predict = []\n",
    "for _z in z:\n",
    "    z_predict.append(gd.predict(_z))\n",
    "    \n",
    "z_predict = np.array(z_predict).reshape(xy.shape)\n",
    "# 绘制结果\n",
    "ax = plt.axes()\n",
    "ax.contourf(xy, yx, z_predict)\n",
    "# 绘制原始数据\n",
    "ax.scatter(X[Y == 1,0], X[Y == 1,1], marker='^', label='class1')\n",
    "ax.scatter(X[Y == 0,0], X[Y == 0,1], marker='o', label='class2')\n",
    "ax.legend()"
   ]
  },
  {
   "cell_type": "markdown",
   "metadata": {},
   "source": [
    "1. 可以看到对于线性问题，逻辑斯蒂回归也是有着不错的分类效果。\n",
    "2. 在训练时，我将数据进行了标准化，我发现如果不进行标准化，分类效果很差，所以逻辑斯蒂回归是否一定要标准化？"
   ]
  },
  {
   "cell_type": "code",
   "execution_count": null,
   "metadata": {},
   "outputs": [],
   "source": []
  }
 ],
 "metadata": {
  "kernelspec": {
   "display_name": "Python 3",
   "language": "python",
   "name": "python3"
  },
  "language_info": {
   "codemirror_mode": {
    "name": "ipython",
    "version": 3
   },
   "file_extension": ".py",
   "mimetype": "text/x-python",
   "name": "python",
   "nbconvert_exporter": "python",
   "pygments_lexer": "ipython3",
   "version": "3.7.0"
  }
 },
 "nbformat": 4,
 "nbformat_minor": 2
}
