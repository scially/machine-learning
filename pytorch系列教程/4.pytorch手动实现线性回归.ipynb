{
 "cells": [
  {
   "cell_type": "markdown",
   "metadata": {
    "pycharm": {}
   },
   "source": [
    "### 用pytorch手动实现线性回归\n",
    "1. 构造数据"
   ]
  },
  {
   "cell_type": "code",
   "execution_count": 1,
   "metadata": {
    "pycharm": {}
   },
   "outputs": [
    {
     "data": {
      "text/plain": [
       "<matplotlib.collections.PathCollection at 0x9219d30>"
      ]
     },
     "execution_count": 1,
     "metadata": {},
     "output_type": "execute_result"
    },
    {
     "data": {
      "image/png": "[encoded data removed]",
      "text/plain": [
       "<Figure size 432x288 with 1 Axes>"
      ]
     },
     "metadata": {
      "needs_background": "light"
     },
     "output_type": "display_data"
    }
   ],
   "source": [
    "import torch as t\n",
    "from matplotlib import pyplot as plt\n",
    "%matplotlib inline\n",
    "t.manual_seed(1)\n",
    "size = 30\n",
    "x = t.rand(size, 1) * 20\n",
    "# 这里的噪声注意要是正态分布\n",
    "y = x * 2 + (1 + t.rand(size,1)) * 3\n",
    "plt.scatter(x, y)"
   ]
  },
  {
   "cell_type": "markdown",
   "metadata": {
    "pycharm": {}
   },
   "source": [
    "### 拟合\n",
    "$$y = kx + b$$"
   ]
  },
  {
   "cell_type": "code",
   "execution_count": 2,
   "metadata": {
    "pycharm": {
     "is_executing": false
    }
   },
   "outputs": [
    {
     "name": "stdout",
     "output_type": "stream",
     "text": [
      "tensor([[2.0056]], requires_grad=True) tensor([[2.9760]], requires_grad=True)\n"
     ]
    }
   ],
   "source": [
    "import torch as t\n",
    "from matplotlib import pyplot as plt\n",
    "%matplotlib inline\n",
    "t.manual_seed(1000)\n",
    "def get_x_y():\n",
    "    size = 80\n",
    "    x = t.rand(size, 1) * 20\n",
    "    y = x * 2 + (1 + t.randn(size,1)) * 3\n",
    "    return x, y\n",
    "\n",
    "w = t.rand(1,1, requires_grad=True)\n",
    "b = t.rand(1,1, requires_grad=True)\n",
    "for _ in range(8000):\n",
    "    x, y = get_x_y()\n",
    "    y_pred = w * x + b\n",
    "\n",
    "    # 无法收敛\n",
    "    # loss = 0.5 * (y_pred - y) ** 2\n",
    "    loss = t.mean((y_pred - y) ** 2)\n",
    "    loss = loss.sum()\n",
    "    loss.backward()\n",
    "    \n",
    "    # 检验求导是否正确\n",
    "    # print(x.t().mm (y_pred - y))\n",
    "    # print(w.grad)\n",
    "    w.data.sub_(0.001 * w.grad.data)\n",
    "    b.data.sub_(0.001 * b.grad.data)\n",
    "    \n",
    "    w.grad.data.zero_()\n",
    "    b.grad.data.zero_()\n",
    "print(w, b)"
   ]
  },
  {
   "cell_type": "code",
   "execution_count": 13,
   "metadata": {
    "pycharm": {}
   },
   "outputs": [
    {
     "data": {
      "text/plain": [
       "[<matplotlib.lines.Line2D at 0x9475fd0>]"
      ]
     },
     "execution_count": 13,
     "metadata": {},
     "output_type": "execute_result"
    },
    {
     "data": {
      "image/png": "[encoded data removed]",
      "text/plain": [
       "<Figure size 432x288 with 1 Axes>"
      ]
     },
     "metadata": {
      "needs_background": "light"
     },
     "output_type": "display_data"
    }
   ],
   "source": [
    "x, y = get_x_y()\n",
    "plt.scatter(x,y)\n",
    "y_prec = x * w + b\n",
    "x = x.data.numpy()\n",
    "y_prec = y_prec.data.numpy()\n",
    "plt.plot(x, y_prec, color='red')"
   ]
  },
  {
   "cell_type": "code",
   "execution_count": null,
   "metadata": {},
   "outputs": [],
   "source": []
  }
 ],
 "metadata": {
  "kernelspec": {
   "display_name": "Python 3",
   "language": "python",
   "name": "python3"
  },
  "language_info": {
   "codemirror_mode": {
    "name": "ipython",
    "version": 3
   },
   "file_extension": ".py",
   "mimetype": "text/x-python",
   "name": "python",
   "nbconvert_exporter": "python",
   "pygments_lexer": "ipython3",
   "version": "3.7.1"
  }
 },
 "nbformat": 4,
 "nbformat_minor": 2
}
