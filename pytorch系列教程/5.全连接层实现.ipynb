{
 "cells": [
  {
   "cell_type": "code",
   "execution_count": 2,
   "metadata": {},
   "outputs": [],
   "source": [
    "import torch as t\n",
    "from torch import nn\n",
    "class Linear(nn.Module):\n",
    "    def __init__(self, in_features, out_featrues):\n",
    "        super(Linear, self).__init__()\n",
    "        self.w = nn.Parameter(t.randn(in_features, out_featrues))\n",
    "        self.b = nn.Parameter(t.randn(out_featrues))\n",
    "    def forward(self, x):\n",
    "        x = x.mm(self.w)\n",
    "        return x + self.b"
   ]
  },
  {
   "cell_type": "code",
   "execution_count": 3,
   "metadata": {},
   "outputs": [
    {
     "name": "stdout",
     "output_type": "stream",
     "text": [
      "tensor([[-1.8834, -0.1818, -2.6267],\n",
      "        [-1.3703, -1.2043, -3.9933]], grad_fn=<AddBackward0>)\n"
     ]
    }
   ],
   "source": [
    "layer = Linear(4, 3)\n",
    "input = t.rand(2, 4, requires_grad=True)\n",
    "output = layer(input)\n",
    "print(output)"
   ]
  },
  {
   "cell_type": "code",
   "execution_count": 7,
   "metadata": {},
   "outputs": [
    {
     "name": "stdout",
     "output_type": "stream",
     "text": [
      "w Parameter containing:\n",
      "tensor([[ 1.2425, -0.3001, -0.5056],\n",
      "        [-0.9521,  1.1095,  0.5617],\n",
      "        [-0.1208, -0.9937, -1.2929],\n",
      "        [-1.2518, -0.3832, -1.9451]], requires_grad=True)\n",
      "b Parameter containing:\n",
      "tensor([-1.2714, -0.2608, -1.2180], requires_grad=True)\n"
     ]
    }
   ],
   "source": [
    "# 查看模型参数\n",
    "for name,para in layer.named_parameters():\n",
    "    print(name, para)"
   ]
  },
  {
   "cell_type": "code",
   "execution_count": null,
   "metadata": {},
   "outputs": [],
   "source": []
  }
 ],
 "metadata": {
  "kernelspec": {
   "display_name": "Python 3",
   "language": "python",
   "name": "python3"
  },
  "language_info": {
   "codemirror_mode": {
    "name": "ipython",
    "version": 3
   },
   "file_extension": ".py",
   "mimetype": "text/x-python",
   "name": "python",
   "nbconvert_exporter": "python",
   "pygments_lexer": "ipython3",
   "version": "3.7.1"
  }
 },
 "nbformat": 4,
 "nbformat_minor": 2
}
