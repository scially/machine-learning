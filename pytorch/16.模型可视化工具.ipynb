{
 "cells": [
  {
   "cell_type": "markdown",
   "metadata": {},
   "source": [
    "### visdom"
   ]
  },
  {
   "cell_type": "markdown",
   "metadata": {},
   "source": [
    "#### 安装\n",
    "1. 对于conda，使用`conda install -c conda-forge visdom `安装\n",
    "2. 对于pip， 使用 `pip install vidsom`\n",
    "\n",
    "#### 运行\n",
    "```\n",
    "python -m visdom.server\n",
    "```\n",
    "打开浏览器，输入[http://localhost:8097](http://localhost:8097) 即可看到visdom主界面\n",
    "![](./imgs/visdom.png)"
   ]
  },
  {
   "cell_type": "markdown",
   "metadata": {},
   "source": [
    "visdom有两个重要概念：\n",
    "1. env，在上图中上方那一栏可以看到默认的env是main，不同env下的可视化结果相互隔离，互不影响\n",
    "2. pane，窗格，一个env可以有多个窗格，每个窗格保存了可视化记录"
   ]
  },
  {
   "cell_type": "code",
   "execution_count": 5,
   "metadata": {},
   "outputs": [
    {
     "name": "stderr",
     "output_type": "stream",
     "text": [
      "WARNING:root:Setting up a new session...\n"
     ]
    },
    {
     "data": {
      "text/plain": [
       "'window_376f562b8265ea'"
      ]
     },
     "execution_count": 5,
     "metadata": {},
     "output_type": "execute_result"
    }
   ],
   "source": [
    "import visdom\n",
    "import torch as t\n",
    "# JupyterLab无法运行该段代码，请改用notebook\n",
    "vis = visdom.Visdom()\n",
    "x = t.arange(1, 30, .01)\n",
    "y = t.sin(x)\n",
    "vis.line(x,y)"
   ]
  },
  {
   "cell_type": "markdown",
   "metadata": {},
   "source": [
    "![](./imgs/line.png)"
   ]
  },
  {
   "cell_type": "markdown",
   "metadata": {},
   "source": [
    "visdom同时支持pytorch的tensor和numpy的ndarray两种数据结构，但是不支持python的int和float等类型"
   ]
  }
 ],
 "metadata": {
  "kernelspec": {
   "display_name": "Python 3",
   "language": "python",
   "name": "python3"
  },
  "language_info": {
   "codemirror_mode": {
    "name": "ipython",
    "version": 3
   },
   "file_extension": ".py",
   "mimetype": "text/x-python",
   "name": "python",
   "nbconvert_exporter": "python",
   "pygments_lexer": "ipython3",
   "version": "3.7.3"
  }
 },
 "nbformat": 4,
 "nbformat_minor": 2
}
