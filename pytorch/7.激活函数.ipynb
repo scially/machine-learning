{
 "cells": [
  {
   "cell_type": "markdown",
   "metadata": {},
   "source": [
    "#### ReLU函数\n",
    "$$\n",
    "ReLU(x)=max(0,x)\n",
    "$$"
   ]
  },
  {
   "cell_type": "code",
   "execution_count": 4,
   "metadata": {},
   "outputs": [],
   "source": [
    "import torch\n",
    "from torch import nn\n",
    "relu = nn.ReLU(inplace=True)"
   ]
  },
  {
   "cell_type": "code",
   "execution_count": 8,
   "metadata": {},
   "outputs": [
    {
     "name": "stdout",
     "output_type": "stream",
     "text": [
      "tensor([[-1.4688,  1.1435,  0.3796],\n",
      "        [-0.3736,  0.0114, -0.1835]])\n",
      "tensor([[0.0000, 1.1435, 0.3796],\n",
      "        [0.0000, 0.0114, 0.0000]])\n",
      "tensor([[1, 1, 1],\n",
      "        [1, 1, 1]], dtype=torch.uint8)\n"
     ]
    }
   ],
   "source": [
    "input = torch.randn(2,3)\n",
    "print(input)\n",
    "output = relu(input)  # apply relu\n",
    "print(output)\n",
    "print(input == output) # 直接覆盖input"
   ]
  },
  {
   "cell_type": "code",
   "execution_count": null,
   "metadata": {},
   "outputs": [],
   "source": []
  }
 ],
 "metadata": {
  "kernelspec": {
   "display_name": "Python 3",
   "language": "python",
   "name": "python3"
  },
  "language_info": {
   "codemirror_mode": {
    "name": "ipython",
    "version": 3
   },
   "file_extension": ".py",
   "mimetype": "text/x-python",
   "name": "python",
   "nbconvert_exporter": "python",
   "pygments_lexer": "ipython3",
   "version": "3.7.3"
  }
 },
 "nbformat": 4,
 "nbformat_minor": 2
}
