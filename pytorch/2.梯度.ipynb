{
 "cells": [
  {
   "cell_type": "markdown",
   "metadata": {},
   "source": [
    "### 标量梯度自动计算\n",
    "通过`requires_grad=True`，torch将会记录该张量所有操作，可以在必要的时候通过调用`.backward()`得到梯度值。  \n",
    "然后在需要计算梯度时，调用`.backward()`，torch将会自动计算梯度，最终保存在`.grad`属性中。  \n",
    "如果不需要让torch在记录操作计算梯度，则可以调用`.detach()`方法停止torch的记录。"
   ]
  },
  {
   "cell_type": "code",
   "execution_count": 1,
   "metadata": {},
   "outputs": [
    {
     "name": "stdout",
     "output_type": "stream",
     "text": [
      "tensor([[4.5000, 4.5000],\n",
      "        [4.5000, 4.5000]])\n"
     ]
    }
   ],
   "source": [
    "import torch\n",
    "x = torch.ones(2, 2, requires_grad=True)\n",
    "y = x + 2\n",
    "z = y * y * 3\n",
    "out = z.mean()\n",
    "out.backward()\n",
    "print(x.grad)"
   ]
  },
  {
   "cell_type": "markdown",
   "metadata": {},
   "source": [
    "当对x标记`requires_grad=True`时，则所有对x的计算将会被追踪，上述计算中，最终$out=\\frac{3}{4}(x+2)^2$，当我们调用`out.backward()`时，pytorch就开始对每一步x的计算进行求导，比如$\\frac{dout}{dx}=\\frac{3}{2}(x+2)$，实际上**对于标量（out）来说**，当调用`out.backward()`，等同于`out.backward()`"
   ]
  }
 ],
 "metadata": {
  "kernelspec": {
   "display_name": "Python 3",
   "language": "python",
   "name": "python3"
  },
  "language_info": {
   "codemirror_mode": {
    "name": "ipython",
    "version": 3
   },
   "file_extension": ".py",
   "mimetype": "text/x-python",
   "name": "python",
   "nbconvert_exporter": "python",
   "pygments_lexer": "ipython3",
   "version": "3.7.0"
  }
 },
 "nbformat": 4,
 "nbformat_minor": 2
}
