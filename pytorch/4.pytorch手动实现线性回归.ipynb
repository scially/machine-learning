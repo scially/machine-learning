{
 "cells": [
  {
   "cell_type": "markdown",
   "metadata": {
    "pycharm": {}
   },
   "source": [
    "### 用pytorch手动实现线性回归\n",
    "1. 构造数据"
   ]
  },
  {
   "cell_type": "code",
   "execution_count": 8,
   "metadata": {
    "pycharm": {}
   },
   "outputs": [
    {
     "data": {
      "text/plain": [
       "<matplotlib.collections.PathCollection at 0x98860b8>"
      ]
     },
     "execution_count": 8,
     "metadata": {},
     "output_type": "execute_result"
    },
    {
     "data": {
      "image/png": "[encoded data removed]",
      "text/plain": [
       "<Figure size 432x288 with 1 Axes>"
      ]
     },
     "metadata": {
      "needs_background": "light"
     },
     "output_type": "display_data"
    }
   ],
   "source": [
    "import torch as t\n",
    "from matplotlib import pyplot as plt\n",
    "%matplotlib inline\n",
    "t.manual_seed(1)\n",
    "size = 30\n",
    "x = t.rand(size, 1) * 20\n",
    "y = x * 2 + (1 + t.rand(size,1)) * 3\n",
    "plt.scatter(x, y)"
   ]
  },
  {
   "cell_type": "markdown",
   "metadata": {
    "pycharm": {}
   },
   "source": [
    "### 拟合\n",
    "$$y = kx + b$$"
   ]
  },
  {
   "cell_type": "code",
   "execution_count": 41,
   "metadata": {
    "pycharm": {
     "is_executing": false
    }
   },
   "outputs": [
    {
     "name": "stdout",
     "output_type": "stream",
     "text": [
      "tensor([[2.0056]], requires_grad=True) tensor([[2.9760]], requires_grad=True)\n"
     ]
    }
   ],
   "source": [
    "import torch as t\n",
    "from matplotlib import pyplot as plt\n",
    "%matplotlib inline\n",
    "t.manual_seed(1000)\n",
    "def get_x_y():\n",
    "    size = 80\n",
    "    x = t.rand(size, 1) * 20\n",
    "    y = x * 2 + (1 + t.randn(size,1)) * 3\n",
    "    return x, y\n",
    "\n",
    "w = t.rand(1,1, requires_grad=True)\n",
    "b = t.rand(1,1, requires_grad=True)\n",
    "for _ in range(8000):\n",
    "    x, y = get_x_y()\n",
    "    y_pred = w * x + b\n",
    "\n",
    "    # 无法收敛\n",
    "    # loss = 0.5 * (y_pred - y) ** 2\n",
    "    loss = t.mean((y_pred - y) ** 2)\n",
    "    loss = loss.sum()\n",
    "    loss.backward()\n",
    "    \n",
    "    # 检验求导是否正确\n",
    "    # print(x.t().mm (y_pred - y))\n",
    "    # print(w.grad)\n",
    "    w.data.sub_(0.001 * w.grad.data)\n",
    "    b.data.sub_(0.001 * b.grad.data)\n",
    "    \n",
    "    w.grad.data.zero_()\n",
    "    b.grad.data.zero_()\n",
    "print(w, b)"
   ]
  },
  {
   "cell_type": "code",
   "execution_count": null,
   "metadata": {
    "pycharm": {}
   },
   "outputs": [],
   "source": []
  }
 ],
 "metadata": {
  "kernelspec": {
   "display_name": "PyCharm (pytorch)",
   "language": "python",
   "name": "pycharm-64c37887"
  },
  "language_info": {
   "codemirror_mode": {
    "name": "ipython",
    "version": 3
   },
   "file_extension": ".py",
   "mimetype": "text/x-python",
   "name": "python",
   "nbconvert_exporter": "python",
   "pygments_lexer": "ipython3",
   "version": "3.7.0"
  }
 },
 "nbformat": 4,
 "nbformat_minor": 2
}
