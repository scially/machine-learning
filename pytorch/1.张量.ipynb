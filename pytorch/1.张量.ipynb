{
 "cells": [
  {
   "cell_type": "markdown",
   "metadata": {},
   "source": [
    "## 张量基本操作"
   ]
  },
  {
   "cell_type": "markdown",
   "metadata": {},
   "source": [
    "pytorch中操作的基本元素是张量，其实和numpy的ndarrays是一样的，区别在于张量可以用于GPU运算"
   ]
  },
  {
   "cell_type": "code",
   "execution_count": 1,
   "metadata": {},
   "outputs": [
    {
     "name": "stdout",
     "output_type": "stream",
     "text": [
      "tensor([[1.7753e+28, 7.0744e+31, 1.1358e+30],\n",
      "        [1.7743e+28, 2.0535e-19, 2.7909e+23],\n",
      "        [3.8946e+21, 4.4650e+30, 4.6172e+24],\n",
      "        [1.4353e-19, 2.7530e+12, 7.5338e+28],\n",
      "        [1.5975e-43, 0.0000e+00, 0.0000e+00]])\n"
     ]
    }
   ],
   "source": [
    "import torch\n",
    "# 构造一个5x3的零张量\n",
    "x = torch.empty(5,3)\n",
    "print(x)"
   ]
  },
  {
   "cell_type": "code",
   "execution_count": 7,
   "metadata": {},
   "outputs": [
    {
     "name": "stdout",
     "output_type": "stream",
     "text": [
      "tensor([[0.2188, 0.7866, 0.4125],\n",
      "        [0.2884, 0.1567, 0.1277],\n",
      "        [0.6822, 0.9331, 0.5572],\n",
      "        [0.8185, 0.3433, 0.1488],\n",
      "        [0.9651, 0.0595, 0.9173]])\n"
     ]
    }
   ],
   "source": [
    "# 构造一个随机生成的5x3张量\n",
    "x = torch.rand(5,3)\n",
    "print(x)"
   ]
  },
  {
   "cell_type": "code",
   "execution_count": 8,
   "metadata": {},
   "outputs": [
    {
     "name": "stdout",
     "output_type": "stream",
     "text": [
      "tensor([[0, 0, 0],\n",
      "        [0, 0, 0],\n",
      "        [0, 0, 0],\n",
      "        [0, 0, 0],\n",
      "        [0, 0, 0]])\n"
     ]
    }
   ],
   "source": [
    "# 张量在构造的时候还可以指定类型\n",
    "x = torch.zeros(5, 3, dtype=torch.long)\n",
    "print(x)"
   ]
  },
  {
   "cell_type": "code",
   "execution_count": 9,
   "metadata": {},
   "outputs": [
    {
     "name": "stdout",
     "output_type": "stream",
     "text": [
      "tensor([5.5000, 3.0000])\n"
     ]
    }
   ],
   "source": [
    "# 从list中构造张量\n",
    "x = torch.tensor([5.5,3])\n",
    "print(x)"
   ]
  },
  {
   "cell_type": "code",
   "execution_count": 15,
   "metadata": {},
   "outputs": [
    {
     "name": "stdout",
     "output_type": "stream",
     "text": [
      "tensor([[1., 1., 1.],\n",
      "        [1., 1., 1.],\n",
      "        [1., 1., 1.],\n",
      "        [1., 1., 1.],\n",
      "        [1., 1., 1.]], dtype=torch.float64)\n",
      "tensor([[-0.2924,  0.5526,  0.3168],\n",
      "        [ 0.5561, -1.8109, -0.5931],\n",
      "        [ 1.1207,  0.7190,  0.3638],\n",
      "        [-1.1611, -1.0806,  1.4478],\n",
      "        [-1.5854, -0.9577,  0.7642]])\n"
     ]
    }
   ],
   "source": [
    "# 也可以从现有的张量中构造新的张量\n",
    "x = x.new_ones(5, 3, dtype=torch.double)\n",
    "print(x)\n",
    "\n",
    "# 构造一个大小和x相同，但是用新的随机数填充的张量\n",
    "x = torch.randn_like(x, dtype=torch.float)\n",
    "print(x)"
   ]
  },
  {
   "cell_type": "code",
   "execution_count": 16,
   "metadata": {},
   "outputs": [
    {
     "name": "stdout",
     "output_type": "stream",
     "text": [
      "torch.Size([5, 3])\n"
     ]
    }
   ],
   "source": [
    "# 得到张量大小\n",
    "print(x.size())"
   ]
  },
  {
   "cell_type": "markdown",
   "metadata": {},
   "source": [
    "## 张量基本运算"
   ]
  },
  {
   "cell_type": "code",
   "execution_count": 17,
   "metadata": {},
   "outputs": [
    {
     "name": "stdout",
     "output_type": "stream",
     "text": [
      "tensor([[ 0.6780,  1.4184,  0.4915],\n",
      "        [ 1.2844, -0.8814, -0.3373],\n",
      "        [ 1.9303,  1.3879,  0.3662],\n",
      "        [-1.0566, -0.2586,  1.9340],\n",
      "        [-1.5152, -0.6675,  0.8946]])\n"
     ]
    }
   ],
   "source": [
    "# 相加\n",
    "y = torch.rand(5, 3)\n",
    "print(x + y)"
   ]
  },
  {
   "cell_type": "code",
   "execution_count": 18,
   "metadata": {},
   "outputs": [
    {
     "name": "stdout",
     "output_type": "stream",
     "text": [
      "tensor([[ 0.6780,  1.4184,  0.4915],\n",
      "        [ 1.2844, -0.8814, -0.3373],\n",
      "        [ 1.9303,  1.3879,  0.3662],\n",
      "        [-1.0566, -0.2586,  1.9340],\n",
      "        [-1.5152, -0.6675,  0.8946]])\n"
     ]
    }
   ],
   "source": [
    "# 相加\n",
    "print(torch.add(x, y))"
   ]
  },
  {
   "cell_type": "code",
   "execution_count": 21,
   "metadata": {},
   "outputs": [
    {
     "name": "stdout",
     "output_type": "stream",
     "text": [
      "tensor([[ 0.6780,  1.4184,  0.4915],\n",
      "        [ 1.2844, -0.8814, -0.3373],\n",
      "        [ 1.9303,  1.3879,  0.3662],\n",
      "        [-1.0566, -0.2586,  1.9340],\n",
      "        [-1.5152, -0.6675,  0.8946]])\n"
     ]
    }
   ],
   "source": [
    "# 将相加结果保存到指定变量中\n",
    "result = torch.empty(1, 1)\n",
    "torch.add(x, y, out=result) # 如果result大小和计算结果大小不同，pytorch会自动转换\n",
    "print(result)"
   ]
  },
  {
   "cell_type": "code",
   "execution_count": 22,
   "metadata": {},
   "outputs": [
    {
     "name": "stdout",
     "output_type": "stream",
     "text": [
      "tensor([[ 0.6780,  1.4184,  0.4915],\n",
      "        [ 1.2844, -0.8814, -0.3373],\n",
      "        [ 1.9303,  1.3879,  0.3662],\n",
      "        [-1.0566, -0.2586,  1.9340],\n",
      "        [-1.5152, -0.6675,  0.8946]])\n"
     ]
    }
   ],
   "source": [
    "# 将x加到y上\n",
    "y.add_(x)\n",
    "print(y)"
   ]
  },
  {
   "cell_type": "markdown",
   "metadata": {},
   "source": [
    "> Any operation that mutates a tensor in-place is post-fixed with an _. For example: x.copy_(y), x.t_(), will change x."
   ]
  },
  {
   "cell_type": "markdown",
   "metadata": {},
   "source": [
    "## 张量索引"
   ]
  },
  {
   "cell_type": "markdown",
   "metadata": {},
   "source": [
    "张量索引方法和numpy基本一样"
   ]
  },
  {
   "cell_type": "code",
   "execution_count": 24,
   "metadata": {},
   "outputs": [
    {
     "name": "stdout",
     "output_type": "stream",
     "text": [
      "tensor([ 0.5526, -1.8109,  0.7190, -1.0806, -0.9577])\n"
     ]
    }
   ],
   "source": [
    "# 取第2列\n",
    "print(x[:,1])"
   ]
  },
  {
   "cell_type": "code",
   "execution_count": 27,
   "metadata": {},
   "outputs": [
    {
     "name": "stdout",
     "output_type": "stream",
     "text": [
      "torch.Size([4, 4]) torch.Size([16]) torch.Size([2, 8])\n"
     ]
    }
   ],
   "source": [
    "# 也可以更改张量大小，但是不是numpy.reshape，而是view\n",
    "x = torch.randn(4, 4)\n",
    "y = x.view(16)  # 是深度拷贝\n",
    "z = x.view(-1, 8) # 可以指定某个axis为-1， 让pytorch自己计算\n",
    "print(x.size(),y.size(), z.size())"
   ]
  },
  {
   "cell_type": "code",
   "execution_count": 2,
   "metadata": {},
   "outputs": [
    {
     "name": "stdout",
     "output_type": "stream",
     "text": [
      "tensor([-0.5526]) -0.5525521636009216 <class 'float'>\n"
     ]
    }
   ],
   "source": [
    "# 如果你的张量只有一个元素，可以直接使用item方法取得\n",
    "x = torch.randn(1)\n",
    "print(x, x.item(), type(x.item()))"
   ]
  },
  {
   "cell_type": "code",
   "execution_count": 34,
   "metadata": {},
   "outputs": [
    {
     "name": "stdout",
     "output_type": "stream",
     "text": [
      "tensor([1., 1., 1., 1., 1.])\n",
      "[1. 1. 1. 1. 1.]\n"
     ]
    }
   ],
   "source": [
    "# 对于张量，可以直接调用numpy方法获得numpy的ndarrays类型\n",
    "a = torch.ones(5)\n",
    "print(a)\n",
    "b = a.numpy()  # 注意，这里返回的是数据的视图，而不是拷贝！\n",
    "print(b)"
   ]
  },
  {
   "cell_type": "code",
   "execution_count": 35,
   "metadata": {},
   "outputs": [
    {
     "name": "stdout",
     "output_type": "stream",
     "text": [
      "tensor([2., 2., 2., 2., 2.])\n",
      "[2. 2. 2. 2. 2.]\n"
     ]
    }
   ],
   "source": [
    "a.add_(1)\n",
    "print(a)\n",
    "print(b)"
   ]
  },
  {
   "cell_type": "code",
   "execution_count": 36,
   "metadata": {},
   "outputs": [
    {
     "name": "stdout",
     "output_type": "stream",
     "text": [
      "[2. 2. 2. 2. 2.]\n",
      "tensor([2., 2., 2., 2., 2.], dtype=torch.float64)\n"
     ]
    }
   ],
   "source": [
    "# 将numpy类型转为torch\n",
    "import numpy as np\n",
    "a = np.ones(5)\n",
    "b = torch.from_numpy(a) # 注意这里同样是返回的视图，而不是拷贝！\n",
    "np.add(a, 1, out=a)\n",
    "print(a)\n",
    "print(b)"
   ]
  },
  {
   "cell_type": "markdown",
   "metadata": {},
   "source": [
    "> All the Tensors on the **CPU** except a CharTensor support converting to NumPy and back."
   ]
  },
  {
   "cell_type": "markdown",
   "metadata": {},
   "source": [
    "## 使用GPU加速"
   ]
  },
  {
   "cell_type": "markdown",
   "metadata": {},
   "source": [
    "张量可以调用to方法将张量转移到任何支持的设备上"
   ]
  },
  {
   "cell_type": "code",
   "execution_count": 3,
   "metadata": {},
   "outputs": [
    {
     "name": "stdout",
     "output_type": "stream",
     "text": [
      "tensor([0.4474], device='cuda:0')\n",
      "tensor([0.4474], dtype=torch.float64)\n"
     ]
    }
   ],
   "source": [
    "if torch.cuda.is_available():  # 检测cuda是否安装\n",
    "    device = torch.device('cuda')  # 转移到cuda上\n",
    "    y = torch.ones_like(x, device = device)\n",
    "    x = x.to(device)\n",
    "    z = x + y\n",
    "    print(z)\n",
    "    print(z.to(\"cpu\", torch.double))  # 使用CPU运算"
   ]
  }
 ],
 "metadata": {
  "kernelspec": {
   "display_name": "Python 3",
   "language": "python",
   "name": "python3"
  },
  "language_info": {
   "codemirror_mode": {
    "name": "ipython",
    "version": 3
   },
   "file_extension": ".py",
   "mimetype": "text/x-python",
   "name": "python",
   "nbconvert_exporter": "python",
   "pygments_lexer": "ipython3",
   "version": "3.7.3"
  }
 },
 "nbformat": 4,
 "nbformat_minor": 2
}
