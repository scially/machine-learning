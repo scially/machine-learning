{
 "cells": [
  {
   "cell_type": "markdown",
   "metadata": {},
   "source": [
    "### CUDA\n",
    "在pytorch中，以下数据结构分为CPU和GPU两种：\n",
    "1. Tensor\n",
    "2. Variable（pytorch1.0后已经弃用）\n",
    "3. Parameter\n",
    "4. nn.Module（包括常用的layer，loss function， 以及Sequential）  \n",
    "\n",
    "他们共性是都有一个`.cuda`方法，调用此方法即可将其转为对应的GPU对象。注意：\n",
    "1. tensor.cuda和vairable.cuda会返回一个新对象\n",
    "2. 这个新对象的数据已经转移至GPU，而之前的tensor/variable还在原来的设备上\n",
    "3. module.cuda会将所有的数据都迁移至GPU，并返回自己。所以`module=module.cuda() `和`module.cuda()`是相同的效果\n",
    "\n"
   ]
  },
  {
   "cell_type": "markdown",
   "metadata": {},
   "source": [
    "### 持久化\n",
    "在pytorch中，以下对象可以被保存在硬盘上：\n",
    "1. Tensor\n",
    "2. Vairable\n",
    "3. nn.Module\n",
    "4. Optimizer\n",
    "\n",
    "本质上，上述信息都是保存为Tensor。Tensor的保存和加载可以分别调用`save`和`load`实现。在save/load时，还可指定使用的pickle模块，在load时可以完成GPU和CPU的转换。  "
   ]
  },
  {
   "cell_type": "code",
   "execution_count": 2,
   "metadata": {},
   "outputs": [
    {
     "data": {
      "text/plain": [
       "tensor([[2.5223e-44, 0.0000e+00, 0.0000e+00, 0.0000e+00],\n",
       "        [0.0000e+00, 0.0000e+00, 0.0000e+00, 0.0000e+00],\n",
       "        [0.0000e+00, 0.0000e+00, 0.0000e+00, 0.0000e+00]])"
      ]
     },
     "execution_count": 2,
     "metadata": {},
     "output_type": "execute_result"
    }
   ],
   "source": [
    "import torch as t\n",
    "a = t.Tensor(3, 4)\n",
    "a"
   ]
  }
 ],
 "metadata": {
  "kernelspec": {
   "display_name": "Python 3",
   "language": "python",
   "name": "python3"
  },
  "language_info": {
   "codemirror_mode": {
    "name": "ipython",
    "version": 3
   },
   "file_extension": ".py",
   "mimetype": "text/x-python",
   "name": "python",
   "nbconvert_exporter": "python",
   "pygments_lexer": "ipython3",
   "version": "3.7.3"
  }
 },
 "nbformat": 4,
 "nbformat_minor": 2
}
