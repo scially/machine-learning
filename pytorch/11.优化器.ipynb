{
 "cells": [
  {
   "cell_type": "code",
   "execution_count": 2,
   "metadata": {},
   "outputs": [],
   "source": [
    "import torch as t\n",
    "from torch import nn\n",
    "\n",
    "class Net(nn.Module):\n",
    "    def __init__(self):\n",
    "        super(Net, self).__init__()\n",
    "        self.features = nn.Sequential(\n",
    "            nn.Conv2d(3, 6, 5),\n",
    "            nn.ReLU(),\n",
    "            nn.MaxPool2d(2, 2),\n",
    "            nn.Conv2d(6, 16, 5),\n",
    "            nn.ReLU(),\n",
    "            nn.MaxPool2d(2, 2)\n",
    "        )\n",
    "        self.classifier = nn.Sequential(\n",
    "            nn.Linear(16 * 5 * 5, 120),\n",
    "            nn.ReLU(),\n",
    "            nn.Linear(120, 84),\n",
    "            nn.ReLU(),\n",
    "            nn.Linear(84, 10)\n",
    "        )\n",
    "    def forward(self, x):\n",
    "        x = self.features(x)\n",
    "        x = x.view(-1, 16 * 5 * 5) # 这个x的大小是根据后期数据size来定\n",
    "        x = self.classifier(x)\n",
    "        return x\n",
    "# 构建网络\n",
    "net = Net()"
   ]
  },
  {
   "cell_type": "code",
   "execution_count": 7,
   "metadata": {},
   "outputs": [],
   "source": [
    "from torch import optim\n",
    "optimizer = optim.SGD(params=net.parameters(), lr=1)\n",
    "optimizer.zero_grad()\n",
    "input = t.randn(1, 3, 32, 32, requires_grad=True)\n",
    "output = net(input)\n",
    "\n",
    "output.backward(t.ones(1,10)) # fake backward, only for test\n",
    "optimizer.step()"
   ]
  },
  {
   "cell_type": "markdown",
   "metadata": {},
   "source": [
    "#### pytorch的优化器还允许我们对不同的参数设置不同的学习速率的\n",
    "1. 为不同子网络（层）设置不同的学习速率"
   ]
  },
  {
   "cell_type": "code",
   "execution_count": 8,
   "metadata": {},
   "outputs": [],
   "source": [
    "from torch import optim\n",
    "# 如果对某个参数不指定学习率，就使用默认学习率\n",
    "optimizer = optim.SGD([\n",
    "    {'params': net.features.parameters()},  # 学习速率为1e-5\n",
    "    {'params': net.classifier.parameters(), 'lr':1e-2}\n",
    "], lr = 1e-5)"
   ]
  },
  {
   "cell_type": "markdown",
   "metadata": {},
   "source": [
    "2. 只为两个全连接层设置较大的学习速率，其余层的学习率较小"
   ]
  },
  {
   "cell_type": "code",
   "execution_count": 23,
   "metadata": {},
   "outputs": [],
   "source": [
    "special_layers = nn.ModuleList([net.classifier[0], net.classifier[3]])\n",
    "# id是python内置的函数, 返回对象的标识码\n",
    "special_layers_params = list(map(id, special_layers.parameters()))\n",
    "\n",
    "base_params = filter(lambda p: id(p) not in special_layers_params, net.parameters())\n",
    "\n",
    "optimizer = optim.SGD([\n",
    "    {'params': base_params},\n",
    "    {'params': special_layers.parameters(), 'lr' : 0.01}\n",
    "], lr=1e-5)"
   ]
  }
 ],
 "metadata": {
  "kernelspec": {
   "display_name": "Python 3",
   "language": "python",
   "name": "python3"
  },
  "language_info": {
   "codemirror_mode": {
    "name": "ipython",
    "version": 3
   },
   "file_extension": ".py",
   "mimetype": "text/x-python",
   "name": "python",
   "nbconvert_exporter": "python",
   "pygments_lexer": "ipython3",
   "version": "3.7.3"
  }
 },
 "nbformat": 4,
 "nbformat_minor": 2
}
